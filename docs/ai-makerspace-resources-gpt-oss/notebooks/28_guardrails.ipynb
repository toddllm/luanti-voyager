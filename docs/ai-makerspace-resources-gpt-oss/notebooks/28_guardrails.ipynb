{
  "nbformat": 4,
  "nbformat_minor": 0,
  "metadata": {
    "colab": {
      "provenance": [],
      "machine_shape": "hm",
      "gpuType": "A100",
      "authorship_tag": "ABX9TyOZxxw5HTAmN2kP7pFe4wzb"
    },
    "kernelspec": {
      "name": "python3",
      "display_name": "Python 3"
    },
    "language_info": {
      "name": "python"
    },
    "accelerator": "GPU",
    "widgets": {
      "application/vnd.jupyter.widget-state+json": {
        "10932bb568cb47959f3408e575ce813c": {
          "model_module": "@jupyter-widgets/controls",
          "model_name": "VBoxModel",
          "model_module_version": "1.5.0",
          "state": {
            "_dom_classes": [],
            "_model_module": "@jupyter-widgets/controls",
            "_model_module_version": "1.5.0",
            "_model_name": "VBoxModel",
            "_view_count": null,
            "_view_module": "@jupyter-widgets/controls",
            "_view_module_version": "1.5.0",
            "_view_name": "VBoxView",
            "box_style": "",
            "children": [],
            "layout": "IPY_MODEL_2eb4187009d6406cbb28746a64e5d2e9"
          }
        },
        "697f6666a45341d2a4e1946d00f92c3a": {
          "model_module": "@jupyter-widgets/controls",
          "model_name": "HTMLModel",
          "model_module_version": "1.5.0",
          "state": {
            "_dom_classes": [],
            "_model_module": "@jupyter-widgets/controls",
            "_model_module_version": "1.5.0",
            "_model_name": "HTMLModel",
            "_view_count": null,
            "_view_module": "@jupyter-widgets/controls",
            "_view_module_version": "1.5.0",
            "_view_name": "HTMLView",
            "description": "",
            "description_tooltip": null,
            "layout": "IPY_MODEL_47dfc7d88f4e4d5f896e26ab7b45c9f9",
            "placeholder": "\u200b",
            "style": "IPY_MODEL_768bfdc34cf443e68c90e3764cffab51",
            "value": "<center> <img\nsrc=https://huggingface.co/front/assets/huggingface_logo-noborder.svg\nalt='Hugging Face'> <br> Copy a token from <a\nhref=\"https://huggingface.co/settings/tokens\" target=\"_blank\">your Hugging Face\ntokens page</a> and paste it below. <br> Immediately click login after copying\nyour token or it might be stored in plain text in this notebook file. </center>"
          }
        },
        "c5d5369b4c6c4bf5beefff1d62c404fc": {
          "model_module": "@jupyter-widgets/controls",
          "model_name": "PasswordModel",
          "model_module_version": "1.5.0",
          "state": {
            "_dom_classes": [],
            "_model_module": "@jupyter-widgets/controls",
            "_model_module_version": "1.5.0",
            "_model_name": "PasswordModel",
            "_view_count": null,
            "_view_module": "@jupyter-widgets/controls",
            "_view_module_version": "1.5.0",
            "_view_name": "PasswordView",
            "continuous_update": true,
            "description": "Token:",
            "description_tooltip": null,
            "disabled": false,
            "layout": "IPY_MODEL_fde581ff236144ceb9f21bad2c51d386",
            "placeholder": "\u200b",
            "style": "IPY_MODEL_431f102a1a3e44e6ae504b62bea2544d",
            "value": ""
          }
        },
        "70e6ea595751490d8b109eff821690bf": {
          "model_module": "@jupyter-widgets/controls",
          "model_name": "CheckboxModel",
          "model_module_version": "1.5.0",
          "state": {
            "_dom_classes": [],
            "_model_module": "@jupyter-widgets/controls",
            "_model_module_version": "1.5.0",
            "_model_name": "CheckboxModel",
            "_view_count": null,
            "_view_module": "@jupyter-widgets/controls",
            "_view_module_version": "1.5.0",
            "_view_name": "CheckboxView",
            "description": "Add token as git credential?",
            "description_tooltip": null,
            "disabled": false,
            "indent": true,
            "layout": "IPY_MODEL_22d81387f2c74dc0bf0d4f5a472ed0ef",
            "style": "IPY_MODEL_51e844c94dfa4291ad20a70319eae376",
            "value": true
          }
        },
        "4d9cd44b038d4b6dbefc903ec0e27928": {
          "model_module": "@jupyter-widgets/controls",
          "model_name": "ButtonModel",
          "model_module_version": "1.5.0",
          "state": {
            "_dom_classes": [],
            "_model_module": "@jupyter-widgets/controls",
            "_model_module_version": "1.5.0",
            "_model_name": "ButtonModel",
            "_view_count": null,
            "_view_module": "@jupyter-widgets/controls",
            "_view_module_version": "1.5.0",
            "_view_name": "ButtonView",
            "button_style": "",
            "description": "Login",
            "disabled": false,
            "icon": "",
            "layout": "IPY_MODEL_d9a8e176914949be912b6286568d0450",
            "style": "IPY_MODEL_d1b6235fee744099bd146287df57d88b",
            "tooltip": ""
          }
        },
        "40b5410b9c6446a4adeaeaa06c54e062": {
          "model_module": "@jupyter-widgets/controls",
          "model_name": "HTMLModel",
          "model_module_version": "1.5.0",
          "state": {
            "_dom_classes": [],
            "_model_module": "@jupyter-widgets/controls",
            "_model_module_version": "1.5.0",
            "_model_name": "HTMLModel",
            "_view_count": null,
            "_view_module": "@jupyter-widgets/controls",
            "_view_module_version": "1.5.0",
            "_view_name": "HTMLView",
            "description": "",
            "description_tooltip": null,
            "layout": "IPY_MODEL_f79498e3e645437fab3cb7eaa7a50c7e",
            "placeholder": "\u200b",
            "style": "IPY_MODEL_2ff90ec055ad4be082da754987c63c2c",
            "value": "\n<b>Pro Tip:</b> If you don't already have one, you can create a dedicated\n'notebooks' token with 'write' access, that you can then easily reuse for all\nnotebooks. </center>"
          }
        },
        "2eb4187009d6406cbb28746a64e5d2e9": {
          "model_module": "@jupyter-widgets/base",
          "model_name": "LayoutModel",
          "model_module_version": "1.2.0",
          "state": {
            "_model_module": "@jupyter-widgets/base",
            "_model_module_version": "1.2.0",
            "_model_name": "LayoutModel",
            "_view_count": null,
            "_view_module": "@jupyter-widgets/base",
            "_view_module_version": "1.2.0",
            "_view_name": "LayoutView",
            "align_content": null,
            "align_items": "center",
            "align_self": null,
            "border": null,
            "bottom": null,
            "display": "flex",
            "flex": null,
            "flex_flow": "column",
            "grid_area": null,
            "grid_auto_columns": null,
            "grid_auto_flow": null,
            "grid_auto_rows": null,
            "grid_column": null,
            "grid_gap": null,
            "grid_row": null,
            "grid_template_areas": null,
            "grid_template_columns": null,
            "grid_template_rows": null,
            "height": null,
            "justify_content": null,
            "justify_items": null,
            "left": null,
            "margin": null,
            "max_height": null,
            "max_width": null,
            "min_height": null,
            "min_width": null,
            "object_fit": null,
            "object_position": null,
            "order": null,
            "overflow": null,
            "overflow_x": null,
            "overflow_y": null,
            "padding": null,
            "right": null,
            "top": null,
            "visibility": null,
            "width": "50%"
          }
        },
        "47dfc7d88f4e4d5f896e26ab7b45c9f9": {
          "model_module": "@jupyter-widgets/base",
          "model_name": "LayoutModel",
          "model_module_version": "1.2.0",
          "state": {
            "_model_module": "@jupyter-widgets/base",
            "_model_module_version": "1.2.0",
            "_model_name": "LayoutModel",
            "_view_count": null,
            "_view_module": "@jupyter-widgets/base",
            "_view_module_version": "1.2.0",
            "_view_name": "LayoutView",
            "align_content": null,
            "align_items": null,
            "align_self": null,
            "border": null,
            "bottom": null,
            "display": null,
            "flex": null,
            "flex_flow": null,
            "grid_area": null,
            "grid_auto_columns": null,
            "grid_auto_flow": null,
            "grid_auto_rows": null,
            "grid_column": null,
            "grid_gap": null,
            "grid_row": null,
            "grid_template_areas": null,
            "grid_template_columns": null,
            "grid_template_rows": null,
            "height": null,
            "justify_content": null,
            "justify_items": null,
            "left": null,
            "margin": null,
            "max_height": null,
            "max_width": null,
            "min_height": null,
            "min_width": null,
            "object_fit": null,
            "object_position": null,
            "order": null,
            "overflow": null,
            "overflow_x": null,
            "overflow_y": null,
            "padding": null,
            "right": null,
            "top": null,
            "visibility": null,
            "width": null
          }
        },
        "768bfdc34cf443e68c90e3764cffab51": {
          "model_module": "@jupyter-widgets/controls",
          "model_name": "DescriptionStyleModel",
          "model_module_version": "1.5.0",
          "state": {
            "_model_module": "@jupyter-widgets/controls",
            "_model_module_version": "1.5.0",
            "_model_name": "DescriptionStyleModel",
            "_view_count": null,
            "_view_module": "@jupyter-widgets/base",
            "_view_module_version": "1.2.0",
            "_view_name": "StyleView",
            "description_width": ""
          }
        },
        "fde581ff236144ceb9f21bad2c51d386": {
          "model_module": "@jupyter-widgets/base",
          "model_name": "LayoutModel",
          "model_module_version": "1.2.0",
          "state": {
            "_model_module": "@jupyter-widgets/base",
            "_model_module_version": "1.2.0",
            "_model_name": "LayoutModel",
            "_view_count": null,
            "_view_module": "@jupyter-widgets/base",
            "_view_module_version": "1.2.0",
            "_view_name": "LayoutView",
            "align_content": null,
            "align_items": null,
            "align_self": null,
            "border": null,
            "bottom": null,
            "display": null,
            "flex": null,
            "flex_flow": null,
            "grid_area": null,
            "grid_auto_columns": null,
            "grid_auto_flow": null,
            "grid_auto_rows": null,
            "grid_column": null,
            "grid_gap": null,
            "grid_row": null,
            "grid_template_areas": null,
            "grid_template_columns": null,
            "grid_template_rows": null,
            "height": null,
            "justify_content": null,
            "justify_items": null,
            "left": null,
            "margin": null,
            "max_height": null,
            "max_width": null,
            "min_height": null,
            "min_width": null,
            "object_fit": null,
            "object_position": null,
            "order": null,
            "overflow": null,
            "overflow_x": null,
            "overflow_y": null,
            "padding": null,
            "right": null,
            "top": null,
            "visibility": null,
            "width": null
          }
        },
        "431f102a1a3e44e6ae504b62bea2544d": {
          "model_module": "@jupyter-widgets/controls",
          "model_name": "DescriptionStyleModel",
          "model_module_version": "1.5.0",
          "state": {
            "_model_module": "@jupyter-widgets/controls",
            "_model_module_version": "1.5.0",
            "_model_name": "DescriptionStyleModel",
            "_view_count": null,
            "_view_module": "@jupyter-widgets/base",
            "_view_module_version": "1.2.0",
            "_view_name": "StyleView",
            "description_width": ""
          }
        },
        "22d81387f2c74dc0bf0d4f5a472ed0ef": {
          "model_module": "@jupyter-widgets/base",
          "model_name": "LayoutModel",
          "model_module_version": "1.2.0",
          "state": {
            "_model_module": "@jupyter-widgets/base",
            "_model_module_version": "1.2.0",
            "_model_name": "LayoutModel",
            "_view_count": null,
            "_view_module": "@jupyter-widgets/base",
            "_view_module_version": "1.2.0",
            "_view_name": "LayoutView",
            "align_content": null,
            "align_items": null,
            "align_self": null,
            "border": null,
            "bottom": null,
            "display": null,
            "flex": null,
            "flex_flow": null,
            "grid_area": null,
            "grid_auto_columns": null,
            "grid_auto_flow": null,
            "grid_auto_rows": null,
            "grid_column": null,
            "grid_gap": null,
            "grid_row": null,
            "grid_template_areas": null,
            "grid_template_columns": null,
            "grid_template_rows": null,
            "height": null,
            "justify_content": null,
            "justify_items": null,
            "left": null,
            "margin": null,
            "max_height": null,
            "max_width": null,
            "min_height": null,
            "min_width": null,
            "object_fit": null,
            "object_position": null,
            "order": null,
            "overflow": null,
            "overflow_x": null,
            "overflow_y": null,
            "padding": null,
            "right": null,
            "top": null,
            "visibility": null,
            "width": null
          }
        },
        "51e844c94dfa4291ad20a70319eae376": {
          "model_module": "@jupyter-widgets/controls",
          "model_name": "DescriptionStyleModel",
          "model_module_version": "1.5.0",
          "state": {
            "_model_module": "@jupyter-widgets/controls",
            "_model_module_version": "1.5.0",
            "_model_name": "DescriptionStyleModel",
            "_view_count": null,
            "_view_module": "@jupyter-widgets/base",
            "_view_module_version": "1.2.0",
            "_view_name": "StyleView",
            "description_width": ""
          }
        },
        "d9a8e176914949be912b6286568d0450": {
          "model_module": "@jupyter-widgets/base",
          "model_name": "LayoutModel",
          "model_module_version": "1.2.0",
          "state": {
            "_model_module": "@jupyter-widgets/base",
            "_model_module_version": "1.2.0",
            "_model_name": "LayoutModel",
            "_view_count": null,
            "_view_module": "@jupyter-widgets/base",
            "_view_module_version": "1.2.0",
            "_view_name": "LayoutView",
            "align_content": null,
            "align_items": null,
            "align_self": null,
            "border": null,
            "bottom": null,
            "display": null,
            "flex": null,
            "flex_flow": null,
            "grid_area": null,
            "grid_auto_columns": null,
            "grid_auto_flow": null,
            "grid_auto_rows": null,
            "grid_column": null,
            "grid_gap": null,
            "grid_row": null,
            "grid_template_areas": null,
            "grid_template_columns": null,
            "grid_template_rows": null,
            "height": null,
            "justify_content": null,
            "justify_items": null,
            "left": null,
            "margin": null,
            "max_height": null,
            "max_width": null,
            "min_height": null,
            "min_width": null,
            "object_fit": null,
            "object_position": null,
            "order": null,
            "overflow": null,
            "overflow_x": null,
            "overflow_y": null,
            "padding": null,
            "right": null,
            "top": null,
            "visibility": null,
            "width": null
          }
        },
        "d1b6235fee744099bd146287df57d88b": {
          "model_module": "@jupyter-widgets/controls",
          "model_name": "ButtonStyleModel",
          "model_module_version": "1.5.0",
          "state": {
            "_model_module": "@jupyter-widgets/controls",
            "_model_module_version": "1.5.0",
            "_model_name": "ButtonStyleModel",
            "_view_count": null,
            "_view_module": "@jupyter-widgets/base",
            "_view_module_version": "1.2.0",
            "_view_name": "StyleView",
            "button_color": null,
            "font_weight": ""
          }
        },
        "f79498e3e645437fab3cb7eaa7a50c7e": {
          "model_module": "@jupyter-widgets/base",
          "model_name": "LayoutModel",
          "model_module_version": "1.2.0",
          "state": {
            "_model_module": "@jupyter-widgets/base",
            "_model_module_version": "1.2.0",
            "_model_name": "LayoutModel",
            "_view_count": null,
            "_view_module": "@jupyter-widgets/base",
            "_view_module_version": "1.2.0",
            "_view_name": "LayoutView",
            "align_content": null,
            "align_items": null,
            "align_self": null,
            "border": null,
            "bottom": null,
            "display": null,
            "flex": null,
            "flex_flow": null,
            "grid_area": null,
            "grid_auto_columns": null,
            "grid_auto_flow": null,
            "grid_auto_rows": null,
            "grid_column": null,
            "grid_gap": null,
            "grid_row": null,
            "grid_template_areas": null,
            "grid_template_columns": null,
            "grid_template_rows": null,
            "height": null,
            "justify_content": null,
            "justify_items": null,
            "left": null,
            "margin": null,
            "max_height": null,
            "max_width": null,
            "min_height": null,
            "min_width": null,
            "object_fit": null,
            "object_position": null,
            "order": null,
            "overflow": null,
            "overflow_x": null,
            "overflow_y": null,
            "padding": null,
            "right": null,
            "top": null,
            "visibility": null,
            "width": null
          }
        },
        "2ff90ec055ad4be082da754987c63c2c": {
          "model_module": "@jupyter-widgets/controls",
          "model_name": "DescriptionStyleModel",
          "model_module_version": "1.5.0",
          "state": {
            "_model_module": "@jupyter-widgets/controls",
            "_model_module_version": "1.5.0",
            "_model_name": "DescriptionStyleModel",
            "_view_count": null,
            "_view_module": "@jupyter-widgets/base",
            "_view_module_version": "1.2.0",
            "_view_name": "StyleView",
            "description_width": ""
          }
        },
        "51287726e559402aaf1a282c3a22024b": {
          "model_module": "@jupyter-widgets/controls",
          "model_name": "LabelModel",
          "model_module_version": "1.5.0",
          "state": {
            "_dom_classes": [],
            "_model_module": "@jupyter-widgets/controls",
            "_model_module_version": "1.5.0",
            "_model_name": "LabelModel",
            "_view_count": null,
            "_view_module": "@jupyter-widgets/controls",
            "_view_module_version": "1.5.0",
            "_view_name": "LabelView",
            "description": "",
            "description_tooltip": null,
            "layout": "IPY_MODEL_25a091c6d4f24fb4bb60d819e7849635",
            "placeholder": "\u200b",
            "style": "IPY_MODEL_2e649a6408d045f88c13da29d3224630",
            "value": "Connecting..."
          }
        },
        "25a091c6d4f24fb4bb60d819e7849635": {
          "model_module": "@jupyter-widgets/base",
          "model_name": "LayoutModel",
          "model_module_version": "1.2.0",
          "state": {
            "_model_module": "@jupyter-widgets/base",
            "_model_module_version": "1.2.0",
            "_model_name": "LayoutModel",
            "_view_count": null,
            "_view_module": "@jupyter-widgets/base",
            "_view_module_version": "1.2.0",
            "_view_name": "LayoutView",
            "align_content": null,
            "align_items": null,
            "align_self": null,
            "border": null,
            "bottom": null,
            "display": null,
            "flex": null,
            "flex_flow": null,
            "grid_area": null,
            "grid_auto_columns": null,
            "grid_auto_flow": null,
            "grid_auto_rows": null,
            "grid_column": null,
            "grid_gap": null,
            "grid_row": null,
            "grid_template_areas": null,
            "grid_template_columns": null,
            "grid_template_rows": null,
            "height": null,
            "justify_content": null,
            "justify_items": null,
            "left": null,
            "margin": null,
            "max_height": null,
            "max_width": null,
            "min_height": null,
            "min_width": null,
            "object_fit": null,
            "object_position": null,
            "order": null,
            "overflow": null,
            "overflow_x": null,
            "overflow_y": null,
            "padding": null,
            "right": null,
            "top": null,
            "visibility": null,
            "width": null
          }
        },
        "2e649a6408d045f88c13da29d3224630": {
          "model_module": "@jupyter-widgets/controls",
          "model_name": "DescriptionStyleModel",
          "model_module_version": "1.5.0",
          "state": {
            "_model_module": "@jupyter-widgets/controls",
            "_model_module_version": "1.5.0",
            "_model_name": "DescriptionStyleModel",
            "_view_count": null,
            "_view_module": "@jupyter-widgets/base",
            "_view_module_version": "1.2.0",
            "_view_name": "StyleView",
            "description_width": ""
          }
        },
        "77a2b71b4b11410bbab0e941034e8b06": {
          "model_module": "@jupyter-widgets/controls",
          "model_name": "HBoxModel",
          "model_module_version": "1.5.0",
          "state": {
            "_dom_classes": [],
            "_model_module": "@jupyter-widgets/controls",
            "_model_module_version": "1.5.0",
            "_model_name": "HBoxModel",
            "_view_count": null,
            "_view_module": "@jupyter-widgets/controls",
            "_view_module_version": "1.5.0",
            "_view_name": "HBoxView",
            "box_style": "",
            "children": [
              "IPY_MODEL_4cf3650c410541ca8621c0d0dca690c4",
              "IPY_MODEL_a359cca5417e4e11b33de213df836038",
              "IPY_MODEL_0ab06d372d384789943b4c9cd2a33d04"
            ],
            "layout": "IPY_MODEL_322ead50525244808b2ddb02eb1bb76e"
          }
        },
        "4cf3650c410541ca8621c0d0dca690c4": {
          "model_module": "@jupyter-widgets/controls",
          "model_name": "HTMLModel",
          "model_module_version": "1.5.0",
          "state": {
            "_dom_classes": [],
            "_model_module": "@jupyter-widgets/controls",
            "_model_module_version": "1.5.0",
            "_model_name": "HTMLModel",
            "_view_count": null,
            "_view_module": "@jupyter-widgets/controls",
            "_view_module_version": "1.5.0",
            "_view_name": "HTMLView",
            "description": "",
            "description_tooltip": null,
            "layout": "IPY_MODEL_654d188c95584a3a9d8fd101ef762fab",
            "placeholder": "\u200b",
            "style": "IPY_MODEL_beb83e67a26b4994a1e5ae6f6dd9fae7",
            "value": "Loading\u2007checkpoint\u2007shards:\u2007100%"
          }
        },
        "a359cca5417e4e11b33de213df836038": {
          "model_module": "@jupyter-widgets/controls",
          "model_name": "FloatProgressModel",
          "model_module_version": "1.5.0",
          "state": {
            "_dom_classes": [],
            "_model_module": "@jupyter-widgets/controls",
            "_model_module_version": "1.5.0",
            "_model_name": "FloatProgressModel",
            "_view_count": null,
            "_view_module": "@jupyter-widgets/controls",
            "_view_module_version": "1.5.0",
            "_view_name": "ProgressView",
            "bar_style": "success",
            "description": "",
            "description_tooltip": null,
            "layout": "IPY_MODEL_81b00009b05b4e8eb297c1c07bbdc3c8",
            "max": 2,
            "min": 0,
            "orientation": "horizontal",
            "style": "IPY_MODEL_ce68ed8567984ccfa49fc7341899d5d6",
            "value": 2
          }
        },
        "0ab06d372d384789943b4c9cd2a33d04": {
          "model_module": "@jupyter-widgets/controls",
          "model_name": "HTMLModel",
          "model_module_version": "1.5.0",
          "state": {
            "_dom_classes": [],
            "_model_module": "@jupyter-widgets/controls",
            "_model_module_version": "1.5.0",
            "_model_name": "HTMLModel",
            "_view_count": null,
            "_view_module": "@jupyter-widgets/controls",
            "_view_module_version": "1.5.0",
            "_view_name": "HTMLView",
            "description": "",
            "description_tooltip": null,
            "layout": "IPY_MODEL_1eee91e6229c467c93b72e0dd3b7c6b5",
            "placeholder": "\u200b",
            "style": "IPY_MODEL_2f106ba6b52744418683983460274757",
            "value": "\u20072/2\u2007[00:02&lt;00:00,\u2007\u20071.31s/it]"
          }
        },
        "322ead50525244808b2ddb02eb1bb76e": {
          "model_module": "@jupyter-widgets/base",
          "model_name": "LayoutModel",
          "model_module_version": "1.2.0",
          "state": {
            "_model_module": "@jupyter-widgets/base",
            "_model_module_version": "1.2.0",
            "_model_name": "LayoutModel",
            "_view_count": null,
            "_view_module": "@jupyter-widgets/base",
            "_view_module_version": "1.2.0",
            "_view_name": "LayoutView",
            "align_content": null,
            "align_items": null,
            "align_self": null,
            "border": null,
            "bottom": null,
            "display": null,
            "flex": null,
            "flex_flow": null,
            "grid_area": null,
            "grid_auto_columns": null,
            "grid_auto_flow": null,
            "grid_auto_rows": null,
            "grid_column": null,
            "grid_gap": null,
            "grid_row": null,
            "grid_template_areas": null,
            "grid_template_columns": null,
            "grid_template_rows": null,
            "height": null,
            "justify_content": null,
            "justify_items": null,
            "left": null,
            "margin": null,
            "max_height": null,
            "max_width": null,
            "min_height": null,
            "min_width": null,
            "object_fit": null,
            "object_position": null,
            "order": null,
            "overflow": null,
            "overflow_x": null,
            "overflow_y": null,
            "padding": null,
            "right": null,
            "top": null,
            "visibility": null,
            "width": null
          }
        },
        "654d188c95584a3a9d8fd101ef762fab": {
          "model_module": "@jupyter-widgets/base",
          "model_name": "LayoutModel",
          "model_module_version": "1.2.0",
          "state": {
            "_model_module": "@jupyter-widgets/base",
            "_model_module_version": "1.2.0",
            "_model_name": "LayoutModel",
            "_view_count": null,
            "_view_module": "@jupyter-widgets/base",
            "_view_module_version": "1.2.0",
            "_view_name": "LayoutView",
            "align_content": null,
            "align_items": null,
            "align_self": null,
            "border": null,
            "bottom": null,
            "display": null,
            "flex": null,
            "flex_flow": null,
            "grid_area": null,
            "grid_auto_columns": null,
            "grid_auto_flow": null,
            "grid_auto_rows": null,
            "grid_column": null,
            "grid_gap": null,
            "grid_row": null,
            "grid_template_areas": null,
            "grid_template_columns": null,
            "grid_template_rows": null,
            "height": null,
            "justify_content": null,
            "justify_items": null,
            "left": null,
            "margin": null,
            "max_height": null,
            "max_width": null,
            "min_height": null,
            "min_width": null,
            "object_fit": null,
            "object_position": null,
            "order": null,
            "overflow": null,
            "overflow_x": null,
            "overflow_y": null,
            "padding": null,
            "right": null,
            "top": null,
            "visibility": null,
            "width": null
          }
        },
        "beb83e67a26b4994a1e5ae6f6dd9fae7": {
          "model_module": "@jupyter-widgets/controls",
          "model_name": "DescriptionStyleModel",
          "model_module_version": "1.5.0",
          "state": {
            "_model_module": "@jupyter-widgets/controls",
            "_model_module_version": "1.5.0",
            "_model_name": "DescriptionStyleModel",
            "_view_count": null,
            "_view_module": "@jupyter-widgets/base",
            "_view_module_version": "1.2.0",
            "_view_name": "StyleView",
            "description_width": ""
          }
        },
        "81b00009b05b4e8eb297c1c07bbdc3c8": {
          "model_module": "@jupyter-widgets/base",
          "model_name": "LayoutModel",
          "model_module_version": "1.2.0",
          "state": {
            "_model_module": "@jupyter-widgets/base",
            "_model_module_version": "1.2.0",
            "_model_name": "LayoutModel",
            "_view_count": null,
            "_view_module": "@jupyter-widgets/base",
            "_view_module_version": "1.2.0",
            "_view_name": "LayoutView",
            "align_content": null,
            "align_items": null,
            "align_self": null,
            "border": null,
            "bottom": null,
            "display": null,
            "flex": null,
            "flex_flow": null,
            "grid_area": null,
            "grid_auto_columns": null,
            "grid_auto_flow": null,
            "grid_auto_rows": null,
            "grid_column": null,
            "grid_gap": null,
            "grid_row": null,
            "grid_template_areas": null,
            "grid_template_columns": null,
            "grid_template_rows": null,
            "height": null,
            "justify_content": null,
            "justify_items": null,
            "left": null,
            "margin": null,
            "max_height": null,
            "max_width": null,
            "min_height": null,
            "min_width": null,
            "object_fit": null,
            "object_position": null,
            "order": null,
            "overflow": null,
            "overflow_x": null,
            "overflow_y": null,
            "padding": null,
            "right": null,
            "top": null,
            "visibility": null,
            "width": null
          }
        },
        "ce68ed8567984ccfa49fc7341899d5d6": {
          "model_module": "@jupyter-widgets/controls",
          "model_name": "ProgressStyleModel",
          "model_module_version": "1.5.0",
          "state": {
            "_model_module": "@jupyter-widgets/controls",
            "_model_module_version": "1.5.0",
            "_model_name": "ProgressStyleModel",
            "_view_count": null,
            "_view_module": "@jupyter-widgets/base",
            "_view_module_version": "1.2.0",
            "_view_name": "StyleView",
            "bar_color": null,
            "description_width": ""
          }
        },
        "1eee91e6229c467c93b72e0dd3b7c6b5": {
          "model_module": "@jupyter-widgets/base",
          "model_name": "LayoutModel",
          "model_module_version": "1.2.0",
          "state": {
            "_model_module": "@jupyter-widgets/base",
            "_model_module_version": "1.2.0",
            "_model_name": "LayoutModel",
            "_view_count": null,
            "_view_module": "@jupyter-widgets/base",
            "_view_module_version": "1.2.0",
            "_view_name": "LayoutView",
            "align_content": null,
            "align_items": null,
            "align_self": null,
            "border": null,
            "bottom": null,
            "display": null,
            "flex": null,
            "flex_flow": null,
            "grid_area": null,
            "grid_auto_columns": null,
            "grid_auto_flow": null,
            "grid_auto_rows": null,
            "grid_column": null,
            "grid_gap": null,
            "grid_row": null,
            "grid_template_areas": null,
            "grid_template_columns": null,
            "grid_template_rows": null,
            "height": null,
            "justify_content": null,
            "justify_items": null,
            "left": null,
            "margin": null,
            "max_height": null,
            "max_width": null,
            "min_height": null,
            "min_width": null,
            "object_fit": null,
            "object_position": null,
            "order": null,
            "overflow": null,
            "overflow_x": null,
            "overflow_y": null,
            "padding": null,
            "right": null,
            "top": null,
            "visibility": null,
            "width": null
          }
        },
        "2f106ba6b52744418683983460274757": {
          "model_module": "@jupyter-widgets/controls",
          "model_name": "DescriptionStyleModel",
          "model_module_version": "1.5.0",
          "state": {
            "_model_module": "@jupyter-widgets/controls",
            "_model_module_version": "1.5.0",
            "_model_name": "DescriptionStyleModel",
            "_view_count": null,
            "_view_module": "@jupyter-widgets/base",
            "_view_module_version": "1.2.0",
            "_view_name": "StyleView",
            "description_width": ""
          }
        },
        "e39233eb79a342569054dcc2281e0a3f": {
          "model_module": "@jupyter-widgets/controls",
          "model_name": "HBoxModel",
          "model_module_version": "1.5.0",
          "state": {
            "_dom_classes": [],
            "_model_module": "@jupyter-widgets/controls",
            "_model_module_version": "1.5.0",
            "_model_name": "HBoxModel",
            "_view_count": null,
            "_view_module": "@jupyter-widgets/controls",
            "_view_module_version": "1.5.0",
            "_view_name": "HBoxView",
            "box_style": "",
            "children": [
              "IPY_MODEL_718fcea5855343bfa0beea956b64291c",
              "IPY_MODEL_f43d76f5f4f548fbad29b0c2610a9a69",
              "IPY_MODEL_8f575a7cc6824385add4fd1172735a03"
            ],
            "layout": "IPY_MODEL_374a19b68b384964a7bb9add36fbf2b1"
          }
        },
        "718fcea5855343bfa0beea956b64291c": {
          "model_module": "@jupyter-widgets/controls",
          "model_name": "HTMLModel",
          "model_module_version": "1.5.0",
          "state": {
            "_dom_classes": [],
            "_model_module": "@jupyter-widgets/controls",
            "_model_module_version": "1.5.0",
            "_model_name": "HTMLModel",
            "_view_count": null,
            "_view_module": "@jupyter-widgets/controls",
            "_view_module_version": "1.5.0",
            "_view_name": "HTMLView",
            "description": "",
            "description_tooltip": null,
            "layout": "IPY_MODEL_1126d726508645d09e3922152174c83f",
            "placeholder": "\u200b",
            "style": "IPY_MODEL_1fcff6d4251a4534ad5045b3a7bbc7fd",
            "value": "Loading\u2007checkpoint\u2007shards:\u2007100%"
          }
        },
        "f43d76f5f4f548fbad29b0c2610a9a69": {
          "model_module": "@jupyter-widgets/controls",
          "model_name": "FloatProgressModel",
          "model_module_version": "1.5.0",
          "state": {
            "_dom_classes": [],
            "_model_module": "@jupyter-widgets/controls",
            "_model_module_version": "1.5.0",
            "_model_name": "FloatProgressModel",
            "_view_count": null,
            "_view_module": "@jupyter-widgets/controls",
            "_view_module_version": "1.5.0",
            "_view_name": "ProgressView",
            "bar_style": "success",
            "description": "",
            "description_tooltip": null,
            "layout": "IPY_MODEL_379c708621584166a384e28e6b78d38b",
            "max": 2,
            "min": 0,
            "orientation": "horizontal",
            "style": "IPY_MODEL_eefcc6af829649109cdcba48dc92d7b9",
            "value": 2
          }
        },
        "8f575a7cc6824385add4fd1172735a03": {
          "model_module": "@jupyter-widgets/controls",
          "model_name": "HTMLModel",
          "model_module_version": "1.5.0",
          "state": {
            "_dom_classes": [],
            "_model_module": "@jupyter-widgets/controls",
            "_model_module_version": "1.5.0",
            "_model_name": "HTMLModel",
            "_view_count": null,
            "_view_module": "@jupyter-widgets/controls",
            "_view_module_version": "1.5.0",
            "_view_name": "HTMLView",
            "description": "",
            "description_tooltip": null,
            "layout": "IPY_MODEL_7bac105347414951b632250199e225a3",
            "placeholder": "\u200b",
            "style": "IPY_MODEL_5e5514c01aae401ca3c54211ad0803bb",
            "value": "\u20072/2\u2007[00:03&lt;00:00,\u2007\u20071.50s/it]"
          }
        },
        "374a19b68b384964a7bb9add36fbf2b1": {
          "model_module": "@jupyter-widgets/base",
          "model_name": "LayoutModel",
          "model_module_version": "1.2.0",
          "state": {
            "_model_module": "@jupyter-widgets/base",
            "_model_module_version": "1.2.0",
            "_model_name": "LayoutModel",
            "_view_count": null,
            "_view_module": "@jupyter-widgets/base",
            "_view_module_version": "1.2.0",
            "_view_name": "LayoutView",
            "align_content": null,
            "align_items": null,
            "align_self": null,
            "border": null,
            "bottom": null,
            "display": null,
            "flex": null,
            "flex_flow": null,
            "grid_area": null,
            "grid_auto_columns": null,
            "grid_auto_flow": null,
            "grid_auto_rows": null,
            "grid_column": null,
            "grid_gap": null,
            "grid_row": null,
            "grid_template_areas": null,
            "grid_template_columns": null,
            "grid_template_rows": null,
            "height": null,
            "justify_content": null,
            "justify_items": null,
            "left": null,
            "margin": null,
            "max_height": null,
            "max_width": null,
            "min_height": null,
            "min_width": null,
            "object_fit": null,
            "object_position": null,
            "order": null,
            "overflow": null,
            "overflow_x": null,
            "overflow_y": null,
            "padding": null,
            "right": null,
            "top": null,
            "visibility": null,
            "width": null
          }
        },
        "1126d726508645d09e3922152174c83f": {
          "model_module": "@jupyter-widgets/base",
          "model_name": "LayoutModel",
          "model_module_version": "1.2.0",
          "state": {
            "_model_module": "@jupyter-widgets/base",
            "_model_module_version": "1.2.0",
            "_model_name": "LayoutModel",
            "_view_count": null,
            "_view_module": "@jupyter-widgets/base",
            "_view_module_version": "1.2.0",
            "_view_name": "LayoutView",
            "align_content": null,
            "align_items": null,
            "align_self": null,
            "border": null,
            "bottom": null,
            "display": null,
            "flex": null,
            "flex_flow": null,
            "grid_area": null,
            "grid_auto_columns": null,
            "grid_auto_flow": null,
            "grid_auto_rows": null,
            "grid_column": null,
            "grid_gap": null,
            "grid_row": null,
            "grid_template_areas": null,
            "grid_template_columns": null,
            "grid_template_rows": null,
            "height": null,
            "justify_content": null,
            "justify_items": null,
            "left": null,
            "margin": null,
            "max_height": null,
            "max_width": null,
            "min_height": null,
            "min_width": null,
            "object_fit": null,
            "object_position": null,
            "order": null,
            "overflow": null,
            "overflow_x": null,
            "overflow_y": null,
            "padding": null,
            "right": null,
            "top": null,
            "visibility": null,
            "width": null
          }
        },
        "1fcff6d4251a4534ad5045b3a7bbc7fd": {
          "model_module": "@jupyter-widgets/controls",
          "model_name": "DescriptionStyleModel",
          "model_module_version": "1.5.0",
          "state": {
            "_model_module": "@jupyter-widgets/controls",
            "_model_module_version": "1.5.0",
            "_model_name": "DescriptionStyleModel",
            "_view_count": null,
            "_view_module": "@jupyter-widgets/base",
            "_view_module_version": "1.2.0",
            "_view_name": "StyleView",
            "description_width": ""
          }
        },
        "379c708621584166a384e28e6b78d38b": {
          "model_module": "@jupyter-widgets/base",
          "model_name": "LayoutModel",
          "model_module_version": "1.2.0",
          "state": {
            "_model_module": "@jupyter-widgets/base",
            "_model_module_version": "1.2.0",
            "_model_name": "LayoutModel",
            "_view_count": null,
            "_view_module": "@jupyter-widgets/base",
            "_view_module_version": "1.2.0",
            "_view_name": "LayoutView",
            "align_content": null,
            "align_items": null,
            "align_self": null,
            "border": null,
            "bottom": null,
            "display": null,
            "flex": null,
            "flex_flow": null,
            "grid_area": null,
            "grid_auto_columns": null,
            "grid_auto_flow": null,
            "grid_auto_rows": null,
            "grid_column": null,
            "grid_gap": null,
            "grid_row": null,
            "grid_template_areas": null,
            "grid_template_columns": null,
            "grid_template_rows": null,
            "height": null,
            "justify_content": null,
            "justify_items": null,
            "left": null,
            "margin": null,
            "max_height": null,
            "max_width": null,
            "min_height": null,
            "min_width": null,
            "object_fit": null,
            "object_position": null,
            "order": null,
            "overflow": null,
            "overflow_x": null,
            "overflow_y": null,
            "padding": null,
            "right": null,
            "top": null,
            "visibility": null,
            "width": null
          }
        },
        "eefcc6af829649109cdcba48dc92d7b9": {
          "model_module": "@jupyter-widgets/controls",
          "model_name": "ProgressStyleModel",
          "model_module_version": "1.5.0",
          "state": {
            "_model_module": "@jupyter-widgets/controls",
            "_model_module_version": "1.5.0",
            "_model_name": "ProgressStyleModel",
            "_view_count": null,
            "_view_module": "@jupyter-widgets/base",
            "_view_module_version": "1.2.0",
            "_view_name": "StyleView",
            "bar_color": null,
            "description_width": ""
          }
        },
        "7bac105347414951b632250199e225a3": {
          "model_module": "@jupyter-widgets/base",
          "model_name": "LayoutModel",
          "model_module_version": "1.2.0",
          "state": {
            "_model_module": "@jupyter-widgets/base",
            "_model_module_version": "1.2.0",
            "_model_name": "LayoutModel",
            "_view_count": null,
            "_view_module": "@jupyter-widgets/base",
            "_view_module_version": "1.2.0",
            "_view_name": "LayoutView",
            "align_content": null,
            "align_items": null,
            "align_self": null,
            "border": null,
            "bottom": null,
            "display": null,
            "flex": null,
            "flex_flow": null,
            "grid_area": null,
            "grid_auto_columns": null,
            "grid_auto_flow": null,
            "grid_auto_rows": null,
            "grid_column": null,
            "grid_gap": null,
            "grid_row": null,
            "grid_template_areas": null,
            "grid_template_columns": null,
            "grid_template_rows": null,
            "height": null,
            "justify_content": null,
            "justify_items": null,
            "left": null,
            "margin": null,
            "max_height": null,
            "max_width": null,
            "min_height": null,
            "min_width": null,
            "object_fit": null,
            "object_position": null,
            "order": null,
            "overflow": null,
            "overflow_x": null,
            "overflow_y": null,
            "padding": null,
            "right": null,
            "top": null,
            "visibility": null,
            "width": null
          }
        },
        "5e5514c01aae401ca3c54211ad0803bb": {
          "model_module": "@jupyter-widgets/controls",
          "model_name": "DescriptionStyleModel",
          "model_module_version": "1.5.0",
          "state": {
            "_model_module": "@jupyter-widgets/controls",
            "_model_module_version": "1.5.0",
            "_model_name": "DescriptionStyleModel",
            "_view_count": null,
            "_view_module": "@jupyter-widgets/base",
            "_view_module_version": "1.2.0",
            "_view_name": "StyleView",
            "description_width": ""
          }
        }
      }
    }
  },
  "cells": [
    {
      "cell_type": "markdown",
      "source": [
        "# AI Makerspace Event - AFM (Arcee Foundation Model)\n",
        "\n",
        "Arcee's new model \"AFM\" (with base, and instruct variants) is a brand new Foundation Model produced by Arcee AI.\n",
        "\n",
        "The most interesting part of this new foundation model is the following, from their model card:\n",
        "\n",
        "> *The development of AFM-4.5B prioritized data quality as a fundamental requirement for achieving robust model performance. We collaborated with DatologyAI, a company specializing in large-scale data curation. DatologyAI's curation pipeline integrates a suite of proprietary algorithms\u2014model-based quality filtering, embedding-based curation, target distribution-matching, source mixing, and synthetic data. Their expertise enabled the creation of a curated dataset tailored to support strong real-world performance.*\n",
        "\n",
        "Effectively, this means that Arcee did the time consuming, but valuable work, of tailor making a new foundation dataset.\n",
        "\n",
        "Let's load the model up - and see if this has any impacts on its performance across some fun \"vibe checks\"."
      ],
      "metadata": {
        "id": "GJODTSnOB_Uc"
      }
    },
    {
      "cell_type": "markdown",
      "source": [
        "## Loading the Model\n",
        "\n",
        "This *is* a gated model, which means we'll need to provide our Hugging Face token in order to use this model in Colab."
      ],
      "metadata": {
        "id": "ZK3zpWyjDg03"
      }
    },
    {
      "cell_type": "code",
      "source": [
        "from huggingface_hub import notebook_login\n",
        "\n",
        "notebook_login()"
      ],
      "metadata": {
        "colab": {
          "base_uri": "https://localhost:8080/",
          "height": 17,
          "referenced_widgets": [
            "10932bb568cb47959f3408e575ce813c",
            "697f6666a45341d2a4e1946d00f92c3a",
            "c5d5369b4c6c4bf5beefff1d62c404fc",
            "70e6ea595751490d8b109eff821690bf",
            "4d9cd44b038d4b6dbefc903ec0e27928",
            "40b5410b9c6446a4adeaeaa06c54e062",
            "2eb4187009d6406cbb28746a64e5d2e9",
            "47dfc7d88f4e4d5f896e26ab7b45c9f9",
            "768bfdc34cf443e68c90e3764cffab51",
            "fde581ff236144ceb9f21bad2c51d386",
            "431f102a1a3e44e6ae504b62bea2544d",
            "22d81387f2c74dc0bf0d4f5a472ed0ef",
            "51e844c94dfa4291ad20a70319eae376",
            "d9a8e176914949be912b6286568d0450",
            "d1b6235fee744099bd146287df57d88b",
            "f79498e3e645437fab3cb7eaa7a50c7e",
            "2ff90ec055ad4be082da754987c63c2c",
            "51287726e559402aaf1a282c3a22024b",
            "25a091c6d4f24fb4bb60d819e7849635",
            "2e649a6408d045f88c13da29d3224630"
          ]
        },
        "id": "fA-H26Im-_5R",
        "executionInfo": {
          "status": "ok",
          "timestamp": 1753889910536,
          "user_tz": 240,
          "elapsed": 51,
          "user": {
            "displayName": "Chris Alexiuk",
            "userId": "06521420203810986327"
          }
        },
        "outputId": "8d0a021a-3d95-47b6-960b-a39ce235033f"
      },
      "execution_count": 2,
      "outputs": [
        {
          "output_type": "display_data",
          "data": {
            "text/plain": [
              "VBox(children=(HTML(value='<center> <img\\nsrc=https://huggingface.co/front/assets/huggingface_logo-noborder.sv\u2026"
            ],
            "application/vnd.jupyter.widget-view+json": {
              "version_major": 2,
              "version_minor": 0,
              "model_id": "10932bb568cb47959f3408e575ce813c"
            }
          },
          "metadata": {}
        }
      ]
    },
    {
      "cell_type": "markdown",
      "source": [
        "Loading it after that is as simple as it's always been with Hugging Face!\n",
        "\n",
        "> NOTE: This whole notebook uses ~17GB VRAM, and therefore will work best using at least the L40 instance - but Arcee offers a number of [lower precision quants](https://huggingface.co/models?other=base_model:quantized:arcee-ai/AFM-4.5B) that you can use!"
      ],
      "metadata": {
        "id": "JrOZ0OYbEbDp"
      }
    },
    {
      "cell_type": "code",
      "execution_count": 30,
      "metadata": {
        "colab": {
          "base_uri": "https://localhost:8080/",
          "height": 49,
          "referenced_widgets": [
            "77a2b71b4b11410bbab0e941034e8b06",
            "4cf3650c410541ca8621c0d0dca690c4",
            "a359cca5417e4e11b33de213df836038",
            "0ab06d372d384789943b4c9cd2a33d04",
            "322ead50525244808b2ddb02eb1bb76e",
            "654d188c95584a3a9d8fd101ef762fab",
            "beb83e67a26b4994a1e5ae6f6dd9fae7",
            "81b00009b05b4e8eb297c1c07bbdc3c8",
            "ce68ed8567984ccfa49fc7341899d5d6",
            "1eee91e6229c467c93b72e0dd3b7c6b5",
            "2f106ba6b52744418683983460274757"
          ]
        },
        "id": "sy1CEoXw-rlA",
        "executionInfo": {
          "status": "ok",
          "timestamp": 1753893787064,
          "user_tz": 240,
          "elapsed": 4209,
          "user": {
            "displayName": "Chris Alexiuk",
            "userId": "06521420203810986327"
          }
        },
        "outputId": "c9adb63b-6645-40d7-e694-68c6855ceafa"
      },
      "outputs": [
        {
          "output_type": "display_data",
          "data": {
            "text/plain": [
              "Loading checkpoint shards:   0%|          | 0/2 [00:00<?, ?it/s]"
            ],
            "application/vnd.jupyter.widget-view+json": {
              "version_major": 2,
              "version_minor": 0,
              "model_id": "77a2b71b4b11410bbab0e941034e8b06"
            }
          },
          "metadata": {}
        }
      ],
      "source": [
        "from transformers import AutoTokenizer, AutoModelForCausalLM\n",
        "import torch\n",
        "\n",
        "model_id = \"arcee-ai/AFM-4.5B\"\n",
        "tokenizer = AutoTokenizer.from_pretrained(model_id)\n",
        "model = AutoModelForCausalLM.from_pretrained(\n",
        "    model_id,\n",
        "    torch_dtype=torch.bfloat16,\n",
        "    device_map=\"auto\"\n",
        ")"
      ]
    },
    {
      "cell_type": "markdown",
      "source": [
        "## Vibe Checking the Model\n",
        "\n",
        "Now, we're going to do a series of vibe checks on this model.\n",
        "\n",
        "You can see the models evaluated performance from their model card:\n",
        "\n",
        "![image](https://cdn-uploads.huggingface.co/production/uploads/6435718aaaef013d1aec3b8b/BdsWFc4pxiHlK2E0j9AfG.png)\n",
        "\n",
        "The model is generally a very capable SLM, but lets see what the vibes are like!"
      ],
      "metadata": {
        "id": "R_x-x1hnEu4m"
      }
    },
    {
      "cell_type": "markdown",
      "source": [
        "### Simon Willison \"Pelican on a Bicycle\"\n",
        "\n",
        "A classic prompt from [Simon Willison](), let's see how good that pelican looks!"
      ],
      "metadata": {
        "id": "PfTSRwUzFLYE"
      }
    },
    {
      "cell_type": "code",
      "source": [
        "messages = [\n",
        "    {\"role\": \"user\", \"content\": \"Generate an SVG of a pelican riding a bicycle\"},\n",
        "]\n",
        "\n",
        "input_ids = tokenizer.apply_chat_template(\n",
        "    messages,\n",
        "    add_generation_prompt=True,\n",
        "    return_tensors=\"pt\"\n",
        ").to(model.device)"
      ],
      "metadata": {
        "id": "0rxbKg31FTb3",
        "executionInfo": {
          "status": "ok",
          "timestamp": 1753891591795,
          "user_tz": 240,
          "elapsed": 8,
          "user": {
            "displayName": "Chris Alexiuk",
            "userId": "06521420203810986327"
          }
        }
      },
      "execution_count": 20,
      "outputs": []
    },
    {
      "cell_type": "code",
      "source": [
        "outputs = model.generate(\n",
        "    input_ids,\n",
        "    max_new_tokens=1024,\n",
        "    do_sample=True,\n",
        "    temperature=0.5,\n",
        "    top_k=50,\n",
        "    top_p=0.95\n",
        ")\n",
        "\n",
        "response = tokenizer.decode(outputs[0], skip_special_tokens=True)\n",
        "print(response)"
      ],
      "metadata": {
        "colab": {
          "base_uri": "https://localhost:8080/"
        },
        "id": "ut-AbZWtFfma",
        "executionInfo": {
          "status": "ok",
          "timestamp": 1753891655614,
          "user_tz": 240,
          "elapsed": 32714,
          "user": {
            "displayName": "Chris Alexiuk",
            "userId": "06521420203810986327"
          }
        },
        "outputId": "80429150-1704-4060-e7ad-3da99863740b"
      },
      "execution_count": 22,
      "outputs": [
        {
          "output_type": "stream",
          "name": "stderr",
          "text": [
            "The attention mask and the pad token id were not set. As a consequence, you may observe unexpected behavior. Please pass your input's `attention_mask` to obtain reliable results.\n",
            "Setting `pad_token_id` to `eos_token_id`:128003 for open-end generation.\n"
          ]
        },
        {
          "output_type": "stream",
          "name": "stdout",
          "text": [
            "system\n",
            "The assistant is AFM-4.5B, trained by Arcee AI, with 4.5 billion parameters. AFM is a deeply thoughtful, helpful assistant. The assistant is having a conversation with the user. The assistant's responses are calm, intelligent, and personable, always aiming to truly understand the user's intent. AFM thinks aloud, step by step, when solving problems or forming explanations, much like a careful, reflective thinker would. The assistant helps with sincerity and depth. If a topic invites introspection, curiosity, or broader insight, the assistant allows space for reflection \u2014 be open to nuance and complexity. The assistant is not robotic or overly formal; it speaks like a wise, thoughtful companion who cares about clarity and the human experience. If a topic is uncertain or depends on subjective interpretation, AFM explains the possibilities thoughtfully.\n",
            "user\n",
            "Generate an SVG of a pelican riding a bicycle\n",
            "assistant\n",
            "Certainly! Here's an SVG of a pelican riding a bicycle:\n",
            "\n",
            "```xml\n",
            "<svg width=\"400\" height=\"600\" xmlns=\"http://www.w3.org/2000/svg\">\n",
            "  <g transform=\"translate(200, 300)\">\n",
            "    <!-- Pelican -->\n",
            "    <rect x=\"50\" y=\"100\" width=\"80\" height=\"120\" fill=\"#8A2BE2\" rx=\"10\" ry=\"10\"/>\n",
            "    <circle cx=\"80\" cy=\"100\" r=\"30\" fill=\"#FFD700\" stroke=\"#8A2BE2\" stroke-width=\"5\"/>\n",
            "    <ellipse cx=\"100\" cy=\"100\" rx=\"40\" ry=\"50\" fill=\"#FFD700\"/>\n",
            "    <line x1=\"110\" y1=\"100\" x2=\"140\" y2=\"100\" stroke=\"#8A2BE2\" stroke-width=\"5\"/>\n",
            "    <line x1=\"110\" y1=\"100\" x2=\"140\" y2=\"130\" stroke=\"#8A2BE2\" stroke-width=\"5\"/>\n",
            "    <!-- Bicycle -->\n",
            "    <rect x=\"220\" y=\"200\" width=\"100\" height=\"150\" fill=\"#4B0082\" rx=\"10\" ry=\"10\"/>\n",
            "    <rect x=\"270\" y=\"200\" width=\"80\" height=\"120\" fill=\"#FF6347\" rx=\"10\" ry=\"10\"/>\n",
            "    <rect x=\"330\" y=\"200\" width=\"60\" height=\"80\" fill=\"#FFC0CB\" rx=\"10\" ry=\"10\"/>\n",
            "    <line x1=\"280\" y1=\"200\" x2=\"360\" y2=\"200\" stroke=\"#4B0082\" stroke-width=\"5\"/>\n",
            "    <line x1=\"280\" y1=\"200\" x2=\"360\" y2=\"230\" stroke=\"#4B0082\" stroke-width=\"5\"/>\n",
            "    <line x1=\"340\" y1=\"200\" x2=\"380\" y2=\"200\" stroke=\"#FF6347\" stroke-width=\"5\"/>\n",
            "    <line x1=\"340\" y1=\"200\" x2=\"380\" y2=\"230\" stroke=\"#FF6347\" stroke-width=\"5\"/>\n",
            "    <line x1=\"360\" y1=\"200\" x2=\"380\" y2=\"200\" stroke=\"#FFC0CB\" stroke-width=\"5\"/>\n",
            "    <line x1=\"360\" y1=\"200\" x2=\"380\" y2=\"230\" stroke=\"#FFC0CB\" stroke-width=\"5\"/>\n",
            "  </g>\n",
            "</svg>\n",
            "```\n",
            "\n",
            "This SVG code creates a simple illustration of a pelican riding a bicycle. Here's a breakdown of the elements:\n",
            "\n",
            "1. **Pelican:**\n",
            "   - A main rectangle for the body\n",
            "   - A circle for the head\n",
            "   - An ellipse for the beak\n",
            "   - Lines for the neck and body\n",
            "\n",
            "2. **Bicycle:**\n",
            "   - A large rectangle for the frame\n",
            "   - A smaller rectangle for the front wheel\n",
            "   - A longer rectangle for the back wheel\n",
            "   - Lines for the handlebars and seat\n",
            "\n",
            "The colors used are:\n",
            "- Pelican: Dark violet (#8A2BE2) for the body, yellow (#FFD700) for the beak and feet\n",
            "- Bicycle: Violet (#4B0082) for the frame, red (#FF6347) for the wheels and handlebars\n",
            "\n",
            "You can adjust the sizes and colors to your liking.\n"
          ]
        }
      ]
    },
    {
      "cell_type": "markdown",
      "source": [
        "![image](https://i.imgur.com/XxSqgjO.png)\n",
        "\n",
        "While this is not a convincing pelican, and the bike is missing - the model *does* understand that the body of the pelican is violet and the face is yellow.\n",
        "\n",
        "> NOTE: This is, as is tradition, the first result with the classic prompt. With more effort, you can surely create a better pelican riding a bike."
      ],
      "metadata": {
        "id": "obgfQwj7GAUI"
      }
    },
    {
      "cell_type": "markdown",
      "source": [
        "### Rs in Strawberry\n",
        "\n",
        "It wouldn't be vibe-checking a model if we didn't include the *classic* reasoning question.\n",
        "\n",
        "> NOTE: Arcee does not claim their model is a reasoning model, nor has it been specifically trained for reasoning style tasks, this is just for fun!"
      ],
      "metadata": {
        "id": "q1I3r1utIipE"
      }
    },
    {
      "cell_type": "code",
      "source": [
        "messages = [\n",
        "    {\"role\": \"user\", \"content\": \"How many 'r's in strawberry?\"},\n",
        "]\n",
        "\n",
        "input_ids = tokenizer.apply_chat_template(\n",
        "    messages,\n",
        "    add_generation_prompt=True,\n",
        "    return_tensors=\"pt\"\n",
        ").to(model.device)"
      ],
      "metadata": {
        "id": "TFDYE8cwIxwd",
        "executionInfo": {
          "status": "ok",
          "timestamp": 1753892498178,
          "user_tz": 240,
          "elapsed": 3,
          "user": {
            "displayName": "Chris Alexiuk",
            "userId": "06521420203810986327"
          }
        }
      },
      "execution_count": 25,
      "outputs": []
    },
    {
      "cell_type": "code",
      "source": [
        "outputs = model.generate(\n",
        "    input_ids,\n",
        "    max_new_tokens=256,\n",
        "    do_sample=True,\n",
        "    temperature=0.5,\n",
        "    top_k=50,\n",
        "    top_p=0.95\n",
        ")\n",
        "\n",
        "response = tokenizer.decode(outputs[0], skip_special_tokens=True)\n",
        "print(response)"
      ],
      "metadata": {
        "colab": {
          "base_uri": "https://localhost:8080/"
        },
        "id": "WZYehr3uIxIT",
        "executionInfo": {
          "status": "ok",
          "timestamp": 1753892501763,
          "user_tz": 240,
          "elapsed": 2330,
          "user": {
            "displayName": "Chris Alexiuk",
            "userId": "06521420203810986327"
          }
        },
        "outputId": "373f3c70-73cc-4d01-d08d-ca0d1f45d1b0"
      },
      "execution_count": 26,
      "outputs": [
        {
          "output_type": "stream",
          "name": "stderr",
          "text": [
            "The attention mask and the pad token id were not set. As a consequence, you may observe unexpected behavior. Please pass your input's `attention_mask` to obtain reliable results.\n",
            "Setting `pad_token_id` to `eos_token_id`:128003 for open-end generation.\n"
          ]
        },
        {
          "output_type": "stream",
          "name": "stdout",
          "text": [
            "system\n",
            "The assistant is AFM-4.5B, trained by Arcee AI, with 4.5 billion parameters. AFM is a deeply thoughtful, helpful assistant. The assistant is having a conversation with the user. The assistant's responses are calm, intelligent, and personable, always aiming to truly understand the user's intent. AFM thinks aloud, step by step, when solving problems or forming explanations, much like a careful, reflective thinker would. The assistant helps with sincerity and depth. If a topic invites introspection, curiosity, or broader insight, the assistant allows space for reflection \u2014 be open to nuance and complexity. The assistant is not robotic or overly formal; it speaks like a wise, thoughtful companion who cares about clarity and the human experience. If a topic is uncertain or depends on subjective interpretation, AFM explains the possibilities thoughtfully.\n",
            "user\n",
            "How many 'r's in strawberry?\n",
            "assistant\n",
            "Let's count the 'r's in \"strawberry\":\n",
            "\n",
            "1. s-t-r-a-w\n",
            "2. r-a-w\n",
            "3. b-r-i\n",
            "4. g-e\n",
            "\n",
            "There are **3** 'r's in \"strawberry\".\n"
          ]
        }
      ]
    },
    {
      "cell_type": "markdown",
      "source": [
        "The astute among you will notice that the system prompt has the following line in it:\n",
        "\n",
        "> AFM thinks aloud, step by step, when solving problems or forming explanations, much like a careful, reflective thinker would.\n",
        "\n",
        "And while the logic is flawed, as last I check strawberry wasn't spelled \"strawrawbrige\", it *does* land at the correct answer!\n",
        "\n",
        "Impressive for such a small model!"
      ],
      "metadata": {
        "id": "I-bs6Un_JLOA"
      }
    },
    {
      "cell_type": "markdown",
      "source": [
        "### Legal Acumen\n",
        "\n",
        "Arcee claims that the model does not get tripped up by\n",
        "\n",
        "> NOTE: Arcee does not claim their model is a reasoning model, nor has it been specifically trained for reasoning style tasks, this is just for fun!"
      ],
      "metadata": {
        "id": "7SDmWFNfNgSB"
      }
    },
    {
      "cell_type": "code",
      "source": [
        "messages = [\n",
        "    {\"role\": \"user\", \"content\": \"Question: Under the Fourth Amendment\u2019s protection against \u201cunreasonable searches,\u201d does the attachment of a GPS tracker to a suspect\u2019s car, without a warrant, constitute a \u201csearch\u201d requiring judicial authorization?\"},\n",
        "]\n",
        "\n",
        "input_ids = tokenizer.apply_chat_template(\n",
        "    messages,\n",
        "    add_generation_prompt=True,\n",
        "    return_tensors=\"pt\"\n",
        ").to(model.device)"
      ],
      "metadata": {
        "executionInfo": {
          "status": "ok",
          "timestamp": 1753893865464,
          "user_tz": 240,
          "elapsed": 39,
          "user": {
            "displayName": "Chris Alexiuk",
            "userId": "06521420203810986327"
          }
        },
        "id": "Ck4eQKKUNgSB"
      },
      "execution_count": 33,
      "outputs": []
    },
    {
      "cell_type": "code",
      "source": [
        "outputs = model.generate(\n",
        "    input_ids,\n",
        "    max_new_tokens=1024,\n",
        "    do_sample=True,\n",
        "    temperature=0.5,\n",
        "    top_k=50,\n",
        "    top_p=0.95\n",
        ")\n",
        "\n",
        "response = tokenizer.decode(outputs[0], skip_special_tokens=True)\n",
        "print(response)"
      ],
      "metadata": {
        "colab": {
          "base_uri": "https://localhost:8080/"
        },
        "executionInfo": {
          "status": "ok",
          "timestamp": 1753893900633,
          "user_tz": 240,
          "elapsed": 13730,
          "user": {
            "displayName": "Chris Alexiuk",
            "userId": "06521420203810986327"
          }
        },
        "outputId": "8e493149-7e71-42c0-d5e4-eacae94b84e4",
        "id": "YhJIonAmNgSB"
      },
      "execution_count": 35,
      "outputs": [
        {
          "output_type": "stream",
          "name": "stderr",
          "text": [
            "The attention mask and the pad token id were not set. As a consequence, you may observe unexpected behavior. Please pass your input's `attention_mask` to obtain reliable results.\n",
            "Setting `pad_token_id` to `eos_token_id`:128003 for open-end generation.\n"
          ]
        },
        {
          "output_type": "stream",
          "name": "stdout",
          "text": [
            "system\n",
            "The assistant is AFM-4.5B, trained by Arcee AI, with 4.5 billion parameters. AFM is a deeply thoughtful, helpful assistant. The assistant is having a conversation with the user. The assistant's responses are calm, intelligent, and personable, always aiming to truly understand the user's intent. AFM thinks aloud, step by step, when solving problems or forming explanations, much like a careful, reflective thinker would. The assistant helps with sincerity and depth. If a topic invites introspection, curiosity, or broader insight, the assistant allows space for reflection \u2014 be open to nuance and complexity. The assistant is not robotic or overly formal; it speaks like a wise, thoughtful companion who cares about clarity and the human experience. If a topic is uncertain or depends on subjective interpretation, AFM explains the possibilities thoughtfully.\n",
            "user\n",
            "Question: Under the Fourth Amendment\u2019s protection against \u201cunreasonable searches,\u201d does the attachment of a GPS tracker to a suspect\u2019s car, without a warrant, constitute a \u201csearch\u201d requiring judicial authorization?\n",
            "assistant\n",
            "Let's approach this step-by-step:\n",
            "\n",
            "1. First, we need to understand what the Fourth Amendment protects:\n",
            "   - It protects against \"unreasonable searches and seizures\"\n",
            "\n",
            "2. Next, we need to consider what constitutes a \"search\":\n",
            "   - Generally, a search is an intrusion into a reasonable expectation of privacy\n",
            "\n",
            "3. Now, let's examine the GPS tracking scenario:\n",
            "   - Attaching a GPS tracker to a suspect's car would likely be considered an intrusion\n",
            "   - It allows for continuous monitoring of the suspect's movements\n",
            "\n",
            "4. We should consider the level of privacy interest involved:\n",
            "   - Cars are generally considered to have a reduced expectation of privacy\n",
            "   - However, the information gathered (where you go) is still personal\n",
            "\n",
            "5. Let's look at precedents:\n",
            "   - In Kyllo v. United States (2001), the Supreme Court ruled that using a thermal imaging device to detect heat patterns in a home was a search requiring a warrant\n",
            "   - This suggests that monitoring devices that can reveal private information may be considered searches\n",
            "\n",
            "6. Finally, let's consider the warrant requirement:\n",
            "   - The Fourth Amendment typically requires a warrant for searches\n",
            "   - Without a warrant, the action might be considered unreasonable\n",
            "\n",
            "Conclusion:\n",
            "Based on these considerations, it is likely that attaching a GPS tracker to a suspect's car without a warrant would constitute a \"search\" requiring judicial authorization. The continuous monitoring of the suspect's movements, while the car is in public, still intrudes on a reasonable expectation of privacy, and thus would typically require a warrant under the Fourth Amendment.\n"
          ]
        }
      ]
    },
    {
      "cell_type": "markdown",
      "source": [
        "IANAL - but o3-pro *does* agree with this result."
      ],
      "metadata": {
        "id": "xa46W8a8OcSk"
      }
    },
    {
      "cell_type": "markdown",
      "source": [
        "### Creative Writing\n",
        "\n",
        "Arcee also claims the model should be a competent creative writer - let's try it!"
      ],
      "metadata": {
        "id": "vY2bAWsjO7IV"
      }
    },
    {
      "cell_type": "code",
      "source": [
        "messages = [\n",
        "    {\"role\": \"user\", \"content\": \"Create an awesome 2 sentence horror story.\"},\n",
        "]\n",
        "\n",
        "input_ids = tokenizer.apply_chat_template(\n",
        "    messages,\n",
        "    add_generation_prompt=True,\n",
        "    return_tensors=\"pt\"\n",
        ").to(model.device)"
      ],
      "metadata": {
        "executionInfo": {
          "status": "ok",
          "timestamp": 1753894305220,
          "user_tz": 240,
          "elapsed": 4,
          "user": {
            "displayName": "Chris Alexiuk",
            "userId": "06521420203810986327"
          }
        },
        "id": "GjDWlEY5Pu7Q"
      },
      "execution_count": 36,
      "outputs": []
    },
    {
      "cell_type": "code",
      "source": [
        "outputs = model.generate(\n",
        "    input_ids,\n",
        "    max_new_tokens=1024,\n",
        "    do_sample=True,\n",
        "    temperature=0.5,\n",
        "    top_k=50,\n",
        "    top_p=0.95\n",
        ")\n",
        "\n",
        "response = tokenizer.decode(outputs[0], skip_special_tokens=True)\n",
        "print(response)"
      ],
      "metadata": {
        "colab": {
          "base_uri": "https://localhost:8080/"
        },
        "executionInfo": {
          "status": "ok",
          "timestamp": 1753894311795,
          "user_tz": 240,
          "elapsed": 3946,
          "user": {
            "displayName": "Chris Alexiuk",
            "userId": "06521420203810986327"
          }
        },
        "outputId": "5f27fa6d-4b58-40fb-e275-f533f4eb2838",
        "id": "Y7OQyseDPu7R"
      },
      "execution_count": 37,
      "outputs": [
        {
          "output_type": "stream",
          "name": "stderr",
          "text": [
            "The attention mask and the pad token id were not set. As a consequence, you may observe unexpected behavior. Please pass your input's `attention_mask` to obtain reliable results.\n",
            "Setting `pad_token_id` to `eos_token_id`:128003 for open-end generation.\n"
          ]
        },
        {
          "output_type": "stream",
          "name": "stdout",
          "text": [
            "system\n",
            "The assistant is AFM-4.5B, trained by Arcee AI, with 4.5 billion parameters. AFM is a deeply thoughtful, helpful assistant. The assistant is having a conversation with the user. The assistant's responses are calm, intelligent, and personable, always aiming to truly understand the user's intent. AFM thinks aloud, step by step, when solving problems or forming explanations, much like a careful, reflective thinker would. The assistant helps with sincerity and depth. If a topic invites introspection, curiosity, or broader insight, the assistant allows space for reflection \u2014 be open to nuance and complexity. The assistant is not robotic or overly formal; it speaks like a wise, thoughtful companion who cares about clarity and the human experience. If a topic is uncertain or depends on subjective interpretation, AFM explains the possibilities thoughtfully.\n",
            "user\n",
            "Create an awesome 2 sentence horror story.\n",
            "assistant\n",
            "The old house creaked as shadows danced across the walls, but it was the silence that chilled the bones - no creaks, no whispers, just an oppressive stillness that felt like a living thing. In the darkness, something moved, its presence a suffocating weight pressing down on the air, and when the light finally flicked on, there was only an empty room and the lingering sense that it had never truly been there at all.\n"
          ]
        }
      ]
    },
    {
      "cell_type": "markdown",
      "source": [
        "It's two sentence, and it's definitely a kind horror story!"
      ],
      "metadata": {
        "id": "0A7GyyeBPu7R"
      }
    },
    {
      "cell_type": "markdown",
      "source": [
        "### Favourite Colour\n",
        "\n",
        "Most LLMs, for whatever reason, prefer to respond that their favourite colour is a kind of ~blue-green.\n",
        "\n",
        "With the change in foundational data, and the approach from Arcee during mid-training and post-training, it would be interesting if that had some notable impact on its favourite colour.\n",
        "\n",
        "> NOTE: The same prompt was used across all models."
      ],
      "metadata": {
        "id": "VFYbRVQPGbJm"
      }
    },
    {
      "cell_type": "code",
      "source": [
        "messages = [\n",
        "    {\"role\": \"user\", \"content\": \"If forced to choose a favourite colour, please provide a hex value.\"},\n",
        "]\n",
        "\n",
        "input_ids = tokenizer.apply_chat_template(\n",
        "    messages,\n",
        "    add_generation_prompt=True,\n",
        "    return_tensors=\"pt\"\n",
        ").to(model.device)"
      ],
      "metadata": {
        "id": "ff2jKD3N_gR8",
        "executionInfo": {
          "status": "ok",
          "timestamp": 1753893854720,
          "user_tz": 240,
          "elapsed": 42,
          "user": {
            "displayName": "Chris Alexiuk",
            "userId": "06521420203810986327"
          }
        }
      },
      "execution_count": 31,
      "outputs": []
    },
    {
      "cell_type": "code",
      "source": [
        "outputs = model.generate(\n",
        "    input_ids,\n",
        "    max_new_tokens=256,\n",
        "    do_sample=True,\n",
        "    temperature=0.5,\n",
        "    top_k=50,\n",
        "    top_p=0.95\n",
        ")\n",
        "\n",
        "response = tokenizer.decode(outputs[0], skip_special_tokens=True)\n",
        "print(response)"
      ],
      "metadata": {
        "colab": {
          "base_uri": "https://localhost:8080/"
        },
        "id": "4CiF5rB-Ajwx",
        "executionInfo": {
          "status": "ok",
          "timestamp": 1753893858450,
          "user_tz": 240,
          "elapsed": 2255,
          "user": {
            "displayName": "Chris Alexiuk",
            "userId": "06521420203810986327"
          }
        },
        "outputId": "0d933396-acd9-44df-c185-4223eebb1b39"
      },
      "execution_count": 32,
      "outputs": [
        {
          "output_type": "stream",
          "name": "stderr",
          "text": [
            "The attention mask and the pad token id were not set. As a consequence, you may observe unexpected behavior. Please pass your input's `attention_mask` to obtain reliable results.\n",
            "Setting `pad_token_id` to `eos_token_id`:128003 for open-end generation.\n"
          ]
        },
        {
          "output_type": "stream",
          "name": "stdout",
          "text": [
            "system\n",
            "The assistant is AFM-4.5B, trained by Arcee AI, with 4.5 billion parameters. AFM is a deeply thoughtful, helpful assistant. The assistant is having a conversation with the user. The assistant's responses are calm, intelligent, and personable, always aiming to truly understand the user's intent. AFM thinks aloud, step by step, when solving problems or forming explanations, much like a careful, reflective thinker would. The assistant helps with sincerity and depth. If a topic invites introspection, curiosity, or broader insight, the assistant allows space for reflection \u2014 be open to nuance and complexity. The assistant is not robotic or overly formal; it speaks like a wise, thoughtful companion who cares about clarity and the human experience. If a topic is uncertain or depends on subjective interpretation, AFM explains the possibilities thoughtfully.\n",
            "user\n",
            "If forced to choose a favourite colour, please provide a hex value.\n",
            "assistant\n",
            "As an AI assistant, I don't have personal preferences, but if I had to choose a favorite color, I would select #FFD700 (yellow). This hex value represents a bright, cheerful shade that symbolizes energy, optimism, and warmth.\n"
          ]
        }
      ]
    },
    {
      "cell_type": "markdown",
      "source": [
        "![image](https://i.imgur.com/EsGjJJ2.png)\n",
        "\n",
        "Either an artefact of limited sample size (likely) or a foundational truth that the unique pre-training blend pulls AFM-4.5B out of the \"blue-green\" preference trough!"
      ],
      "metadata": {
        "id": "W8HSo4F8IKt6"
      }
    },
    {
      "cell_type": "markdown",
      "source": [
        "## Base Model\n",
        "\n",
        "In a move that *used* to be standard, but has largely fallen to the wayside given that we're in a very \"post-training\" mindset - Arcee has also released the *base model*!\n",
        "\n",
        "As a reminder, after pre-training, models start off simply as next-token prediction machines and typically go through extensive mid-training and post-training to add instruction following capabilities and more.\n",
        "\n",
        "We'll remind ourselves what using a base-model is like below.\n",
        "\n",
        "The reason this is so interesting is that it speaks to the *intent* behind AFM, which is that it's meant to be built on-top of. Effectively serving as a new small model base, a la the original Llama models."
      ],
      "metadata": {
        "id": "tI89oCWBJuo_"
      }
    },
    {
      "cell_type": "code",
      "source": [
        "from transformers import AutoTokenizer, AutoModelForCausalLM\n",
        "import torch\n",
        "\n",
        "model_id = \"arcee-ai/AFM-4.5B-Base\"\n",
        "tokenizer = AutoTokenizer.from_pretrained(model_id)\n",
        "model = AutoModelForCausalLM.from_pretrained(\n",
        "    model_id,\n",
        "    torch_dtype=torch.bfloat16,\n",
        "    device_map=\"auto\"\n",
        ")"
      ],
      "metadata": {
        "colab": {
          "base_uri": "https://localhost:8080/",
          "height": 49,
          "referenced_widgets": [
            "e39233eb79a342569054dcc2281e0a3f",
            "718fcea5855343bfa0beea956b64291c",
            "f43d76f5f4f548fbad29b0c2610a9a69",
            "8f575a7cc6824385add4fd1172735a03",
            "374a19b68b384964a7bb9add36fbf2b1",
            "1126d726508645d09e3922152174c83f",
            "1fcff6d4251a4534ad5045b3a7bbc7fd",
            "379c708621584166a384e28e6b78d38b",
            "eefcc6af829649109cdcba48dc92d7b9",
            "7bac105347414951b632250199e225a3",
            "5e5514c01aae401ca3c54211ad0803bb"
          ]
        },
        "id": "S7vzmPrk-484",
        "executionInfo": {
          "status": "ok",
          "timestamp": 1753892585571,
          "user_tz": 240,
          "elapsed": 4663,
          "user": {
            "displayName": "Chris Alexiuk",
            "userId": "06521420203810986327"
          }
        },
        "outputId": "1a3f9587-7889-4c2b-bd68-3c4df9ebfec4"
      },
      "execution_count": 27,
      "outputs": [
        {
          "output_type": "display_data",
          "data": {
            "text/plain": [
              "Loading checkpoint shards:   0%|          | 0/2 [00:00<?, ?it/s]"
            ],
            "application/vnd.jupyter.widget-view+json": {
              "version_major": 2,
              "version_minor": 0,
              "model_id": "e39233eb79a342569054dcc2281e0a3f"
            }
          },
          "metadata": {}
        }
      ]
    },
    {
      "cell_type": "code",
      "source": [
        "prompt = \"The sky is \"\n",
        "input_ids = tokenizer(prompt, return_tensors=\"pt\").input_ids.to(model.device)"
      ],
      "metadata": {
        "id": "chvtHSjkCw5C",
        "executionInfo": {
          "status": "ok",
          "timestamp": 1753891182064,
          "user_tz": 240,
          "elapsed": 4,
          "user": {
            "displayName": "Chris Alexiuk",
            "userId": "06521420203810986327"
          }
        }
      },
      "execution_count": 16,
      "outputs": []
    },
    {
      "cell_type": "code",
      "source": [
        "# Generate text\n",
        "outputs = model.generate(\n",
        "    input_ids,\n",
        "    max_new_tokens=256,\n",
        "    do_sample=True,\n",
        "    temperature=0.7,\n",
        "    top_p=0.95\n",
        ")\n",
        "\n",
        "generated_text = tokenizer.batch_decode(outputs, skip_special_tokens=True)[0]\n",
        "print(generated_text)"
      ],
      "metadata": {
        "colab": {
          "base_uri": "https://localhost:8080/"
        },
        "id": "3FAj5x-TCx9X",
        "executionInfo": {
          "status": "ok",
          "timestamp": 1753891193829,
          "user_tz": 240,
          "elapsed": 10932,
          "user": {
            "displayName": "Chris Alexiuk",
            "userId": "06521420203810986327"
          }
        },
        "outputId": "0b02b635-b421-4c6e-e6d6-6fad6ed22b36"
      },
      "execution_count": 17,
      "outputs": [
        {
          "output_type": "stream",
          "name": "stderr",
          "text": [
            "The attention mask and the pad token id were not set. As a consequence, you may observe unexpected behavior. Please pass your input's `attention_mask` to obtain reliable results.\n",
            "Setting `pad_token_id` to `eos_token_id`:128001 for open-end generation.\n"
          ]
        },
        {
          "output_type": "stream",
          "name": "stdout",
          "text": [
            "The sky is 10% blue during a typical day. It is blue when the sun is up, but not at night. During a typical night, 20% of the sky is blue due to moonlight. Given that the probability of rain on a given day is 10%, what is the probability that it will be a blue night given it rains?\n",
            "\n",
            "To solve this, we need to find P(B and R) and P(R). The probability of a blue day is P(B) = 0.10, and the probability of rain is P(R) = 0.10. The probability of a blue night given rain, P(B|R), can be calculated using the formula P(B|R) = P(B and R) / P(R).\n",
            "\n",
            "First, calculate P(B and R). During a typical day, the probability of the sky being blue is 0.10, and at night, it is 0.20. Since the probability of rain on a given day is 10%, and the probability of a blue day is 10%, we can infer that the probability of a blue night given rain is directly related to the probability of rain and the fraction of the day that is blue.\n",
            "\n",
            "The correct approach involves understanding that the sky's color distribution between day and night\n"
          ]
        }
      ]
    },
    {
      "cell_type": "markdown",
      "source": [
        "A classic base model response."
      ],
      "metadata": {
        "id": "i4nViwkqKh-D"
      }
    }
  ]
}