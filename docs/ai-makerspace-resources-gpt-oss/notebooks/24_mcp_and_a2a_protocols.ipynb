{
  "cells": [
    {
      "cell_type": "markdown",
      "source": "# MCP (Model Context Protocol) Implementation\n\nFrom AI-Maker-Space/MCP-Event repository"
    },
    {
      "cell_type": "code",
      "source": "from dotenv import load_dotenv\nfrom mcp.server.fastmcp import FastMCP\nfrom tavily import TavilyClient\nimport os\nfrom dice_roller import DiceRoller\n\nload_dotenv()\n\nmcp = FastMCP(\"websearch-server\")\nclient = TavilyClient(os.getenv(\"TAVILY_API_KEY\"))\n\n@mcp.tool()\ndef web_search(query: str) -> str:\n    \"\"\"Search the web for information about the given query\"\"\"\n    search_results = client.get_search_context(query=query)\n    return search_results\n\n@mcp.tool()\ndef roll_dice(notation: str, num_rolls: int = 1) -> str:\n    \"\"\"Roll the dice with the given notation\"\"\"\n    roller = DiceRoller(notation, num_rolls)\n    return str(roller)  \n\nif __name__ == \"__main__\":\n    mcp.run(transport=\"stdio\")"
    },
    {
      "cell_type": "code",
      "source": "import random\nimport re\n\nclass DiceRoller:\n    def __init__(self, notation, num_rolls=1):\n        self.notation = notation\n        self.num_rolls = num_rolls\n        self.dice_pattern = re.compile(r\"(\\d+)d(\\d+)(k(\\d+))?\")\n\n    def roll_dice(self):\n        match = self.dice_pattern.match(self.notation)\n        if not match:\n            raise ValueError(\"Invalid dice notation\")\n\n        num_dice = int(match.group(1))\n        dice_sides = int(match.group(2))\n        keep = int(match.group(4)) if match.group(4) else num_dice\n\n        rolls = [random.randint(1, dice_sides) for _ in range(num_dice)]\n        rolls.sort(reverse=True)\n        kept_rolls = rolls[:keep]\n\n        return rolls, kept_rolls\n\n    def roll_multiple(self):\n        \"\"\"Roll the dice multiple times according to num_rolls\"\"\"\n        results = []\n        for _ in range(self.num_rolls):\n            rolls, kept_rolls = self.roll_dice()\n            results.append({\n                \"rolls\": rolls,\n                \"kept\": kept_ro"
    },
    {
      "cell_type": "code",
      "source": "import numpy as np\nimport re\n\nclass DiceRoller:\n    def __init__(self, notation, num_rolls=1):\n        self.notation = notation\n        self.num_rolls = num_rolls\n        self.dice_pattern = re.compile(r\"(\\d+)d(\\d+)(k(\\d+))?\")\n\n    def roll_dice(self):\n        match = self.dice_pattern.match(self.notation)\n        if not match:\n            raise ValueError(\"Invalid dice notation\")\n\n        num_dice = int(match.group(1))\n        dice_sides = int(match.group(2))\n        keep = int(match.group(4)) if match.group(4) else num_dice\n\n        # Use numpy to generate random integers\n        rolls = np.random.randint(1, dice_sides + 1, size=num_dice).tolist()\n        rolls.sort(reverse=True)\n        kept_rolls = rolls[:keep]\n\n        return rolls, kept_rolls\n\n    def roll_multiple(self):\n        \"\"\"Roll the dice multiple times according to num_rolls\"\"\"\n        results = []\n        for _ in range(self.num_rolls):\n            rolls, kept_rolls = self.roll_dice()\n            results.append({\n      "
    },
    {
      "cell_type": "markdown",
      "source": "# A2A (Agent-to-Agent) Protocol Implementation\n\nFrom AI-Maker-Space/AIM-A2A-Event repository"
    },
    {
      "cell_type": "code",
      "source": "import hashlib\nimport json\nimport logging\nimport time\nimport uuid\n\nfrom typing import Any\n\nimport httpx\nimport jwt\n\nfrom jwcrypto import jwk\nfrom jwt import PyJWK, PyJWKClient\nfrom starlette.requests import Request\nfrom starlette.responses import JSONResponse\n\n\nlogger = logging.getLogger(__name__)\nAUTH_HEADER_PREFIX = 'Bearer '\n\n\nclass PushNotificationAuth:\n    def _calculate_request_body_sha256(self, data: dict[str, Any]):\n        \"\"\"Calculates the SHA256 hash of a request body.\n\n        This logic needs to be same for both the agent who signs the payload and the client verifier.\n        \"\"\"\n        body_str = json.dumps(\n            data,\n            ensure_ascii=False,\n            allow_nan=False,\n            indent=None,\n            separators=(',', ':'),\n        )\n        return hashlib.sha256(body_str.encode()).hexdigest()\n\n\nclass PushNotificationSenderAuth(PushNotificationAuth):\n    def __init__(self):\n        self.public_keys = []\n        self.private_key_jwk: PyJWK = None\n\n   "
    },
    {
      "cell_type": "code",
      "source": "import asyncio\nimport threading\nimport traceback\n\nfrom push_notification_auth import PushNotificationReceiverAuth\nfrom starlette.applications import Starlette\nfrom starlette.requests import Request\nfrom starlette.responses import Response\n\n\nclass PushNotificationListener:\n    def __init__(\n        self,\n        host,\n        port,\n        notification_receiver_auth: PushNotificationReceiverAuth,\n    ):\n        self.host = host\n        self.port = port\n        self.notification_receiver_auth = notification_receiver_auth\n        self.loop = asyncio.new_event_loop()\n        self.thread = threading.Thread(\n            target=lambda loop: loop.run_forever(), args=(self.loop,)\n        )\n        self.thread.daemon = True\n        self.thread.start()\n\n    def start(self):\n        try:\n            # Need to start server in separate thread as current thread\n            # will be blocked when it is waiting on user prompt.\n            asyncio.run_coroutine_threadsafe(\n                self.start_ser"
    },
    {
      "cell_type": "code",
      "source": "import asyncio\nimport base64\nimport os\nimport urllib\nimport httpx\n\nfrom uuid import uuid4\n\nimport asyncclick as click\nfrom rich.console import Console\nfrom rich.panel import Panel\nfrom rich.text import Text\nfrom rich.json import JSON\nfrom rich.markdown import Markdown\n\nfrom a2a.client import A2AClient, A2ACardResolver\nfrom a2a.types import (\n    Part,\n    TextPart,\n    FilePart,\n    FileWithBytes,\n    Task,\n    TaskState,\n    Message,\n    TaskStatusUpdateEvent,\n    TaskArtifactUpdateEvent,\n    MessageSendConfiguration,\n    SendMessageRequest,\n    SendStreamingMessageRequest,\n    MessageSendParams,\n    GetTaskRequest,\n    TaskQueryParams,\n    JSONRPCErrorResponse,\n)\nfrom push_notification_auth import PushNotificationReceiverAuth\n\n# Initialize Rich console\nconsole = Console()\n\ndef extract_text_from_parts(parts):\n    \"\"\"Extract text content from message parts.\"\"\"\n    texts = []\n    for part in parts:\n        # Handle the nested Part structure: Part(root=TextPart(...))\n        if hasattr(p"
    }
  ]
}